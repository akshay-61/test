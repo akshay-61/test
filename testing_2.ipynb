{
 "cells": [
  {
   "cell_type": "code",
   "execution_count": null,
   "metadata": {},
   "outputs": [],
   "source": [
    "# import necessary packages\n",
    "import os\n",
    "import cv2\n",
    "import numpy as np\n",
    "import pandas as pd\n",
    "import re"
   ]
  },
  {
   "cell_type": "code",
   "execution_count": null,
   "metadata": {},
   "outputs": [],
   "source": [
    "#Add the Corpus\n",
    "brands = pd.read_csv(r\"C:\\Users\\shak1001\\Desktop\\English to French\\brands_5.csv\",encoding='latin-1')\n",
    "dictionary = pd.read_csv(r\"C:\\Users\\shak1001\\Desktop\\English to French\\dict_8.csv\",encoding='latin-1')\n",
    "df = pd.read_csv(r\"C:\\Users\\shak1001\\Desktop\\English to French\\test_new.csv\",encoding='latin-1')"
   ]
  },
  {
   "cell_type": "code",
   "execution_count": null,
   "metadata": {},
   "outputs": [],
   "source": [
    "dictionary.head(5)"
   ]
  },
  {
   "cell_type": "code",
   "execution_count": null,
   "metadata": {},
   "outputs": [],
   "source": [
    "mapping = pd.Series(brands.French.values,index=brands.English).to_dict()"
   ]
  },
  {
   "cell_type": "code",
   "execution_count": null,
   "metadata": {},
   "outputs": [],
   "source": [
    "mapping"
   ]
  },
  {
   "cell_type": "code",
   "execution_count": null,
   "metadata": {},
   "outputs": [],
   "source": [
    "mapping2 = pd.Series(dictionary.French.values,index=dictionary.English).to_dict()"
   ]
  },
  {
   "cell_type": "code",
   "execution_count": null,
   "metadata": {},
   "outputs": [],
   "source": [
    "mapping2"
   ]
  },
  {
   "cell_type": "code",
   "execution_count": null,
   "metadata": {},
   "outputs": [],
   "source": [
    "#from collections import OrderedDict"
   ]
  },
  {
   "cell_type": "code",
   "execution_count": null,
   "metadata": {},
   "outputs": [],
   "source": [
    "#df['dscr1'] = (df['dscr'].str.split()\n",
    "                              #.apply(lambda x: OrderedDict.fromkeys(x).keys())\n",
    "                              #.str.join(' '))"
   ]
  },
  {
   "cell_type": "code",
   "execution_count": null,
   "metadata": {},
   "outputs": [],
   "source": [
    "df['dscr'] = df['dscr'].replace(r'(\\d+(\\.\\d+)?)', r'\\1 ', regex=True)"
   ]
  },
  {
   "cell_type": "code",
   "execution_count": null,
   "metadata": {},
   "outputs": [],
   "source": [
    "replace_dict = {\n",
    "    r\"\\bGM\\b\": \"G\",\n",
    "    r\"\\bLT\\b\": \"L\",\n",
    "    r\"\\bIN\\b\": \"PO\",\n",
    "    r\"\\bFT\\b\": \"PT\",\n",
    "    r\"\\bYDS\\b\": \"Y.\",\n",
    "    r\"\\bS\\b\": \"\",\n",
    "    r\"\\bPLY\\b\": \"EPAISSEUR\",\n",
    "    r\"\\bSET\\b\": \"ENSEMBLE\",\n",
    "    r\"\\bKIT\\b\": \"TROUSSE\",\n",
    "    r\"\\b(CL)\\b\": \"MP\",\n",
    "    r\"\\b1 COAT\\b\": \"1 COAT\"\n",
    "}\n",
    " \n",
    "df['dscr1'] = df['dscr'].replace(replace_dict, regex=True)"
   ]
  },
  {
   "cell_type": "code",
   "execution_count": null,
   "metadata": {},
   "outputs": [],
   "source": [
    "df['dscr2'] = df['dscr1'].replace(mapping, regex=True)"
   ]
  },
  {
   "cell_type": "code",
   "execution_count": null,
   "metadata": {},
   "outputs": [],
   "source": [
    "df['dscr3'] = df['dscr2'].replace(mapping2, regex=True)"
   ]
  },
  {
   "cell_type": "code",
   "execution_count": null,
   "metadata": {},
   "outputs": [],
   "source": [
    "df['dscr4'] = df['dscr3'].replace(r'\\s+', ' ', regex=True)"
   ]
  },
  {
   "cell_type": "code",
   "execution_count": null,
   "metadata": {},
   "outputs": [],
   "source": [
    "#def product_desc_trim_vowels(product):\n",
    "\n",
    "    #try:\n",
    "        #vowels = ['A','E','I','O','U']\n",
    "\n",
    "        #new_description_bag=list(product)\n",
    "\n",
    "        #pointer = len(new_description_bag)-1\n",
    "\n",
    "        #while len(new_description_bag)>=55:\n",
    "            #if new_description_bag[pointer] in vowels:\n",
    "                #new_description_bag.pop(pointer)\n",
    "                #pointer = len(new_description_bag)\n",
    "\n",
    "            #pointer = pointer-1\n",
    "\n",
    "        #return ''.join(new_description_bag)\n",
    "\n",
    "    #except IndexError:\n",
    "        #return product"
   ]
  },
  {
   "cell_type": "code",
   "execution_count": null,
   "metadata": {},
   "outputs": [],
   "source": [
    "#df['dscr4'] = df.apply(lambda row : product_desc_trim_vowels(row['dscr3']), axis = 1)"
   ]
  },
  {
   "cell_type": "code",
   "execution_count": null,
   "metadata": {},
   "outputs": [],
   "source": [
    "df"
   ]
  },
  {
   "cell_type": "code",
   "execution_count": null,
   "metadata": {},
   "outputs": [],
   "source": [
    "df.to_csv(r\"C:\\Users\\shak1001\\Desktop\\English to French\\output_ops_test_new.csv\",header=True,index=False)"
   ]
  },
  {
   "cell_type": "code",
   "execution_count": null,
   "metadata": {},
   "outputs": [],
   "source": [
    "#brand_sub_brand = pd.read_csv(r\"C:\\Users\\shak1001\\Desktop\\English to French\\Brand_Sub_Brand_2.csv\",encoding='latin-1')"
   ]
  },
  {
   "cell_type": "code",
   "execution_count": null,
   "metadata": {},
   "outputs": [],
   "source": [
    "#brand_sub_brand.head()"
   ]
  },
  {
   "cell_type": "code",
   "execution_count": null,
   "metadata": {},
   "outputs": [],
   "source": [
    "#from itertools import product"
   ]
  },
  {
   "cell_type": "code",
   "execution_count": null,
   "metadata": {},
   "outputs": [],
   "source": [
    "#outlist= list(product(brand_sub_brand['Brand'], brand_sub_brand['Sub Brand']))"
   ]
  },
  {
   "cell_type": "code",
   "execution_count": null,
   "metadata": {},
   "outputs": [],
   "source": [
    "#outlist"
   ]
  },
  {
   "cell_type": "code",
   "execution_count": null,
   "metadata": {},
   "outputs": [],
   "source": [
    "#newdf = pd.DataFrame(data=outlist, columns=['first_col','second_col'])"
   ]
  }
 ],
 "metadata": {
  "kernelspec": {
   "display_name": "Python 3",
   "language": "python",
   "name": "python3"
  },
  "language_info": {
   "codemirror_mode": {
    "name": "ipython",
    "version": 3
   },
   "file_extension": ".py",
   "mimetype": "text/x-python",
   "name": "python",
   "nbconvert_exporter": "python",
   "pygments_lexer": "ipython3",
   "version": "3.8.5"
  }
 },
 "nbformat": 4,
 "nbformat_minor": 4
}
